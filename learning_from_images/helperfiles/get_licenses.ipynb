{
 "cells": [
  {
   "cell_type": "markdown",
   "metadata": {},
   "source": [
    "## get licenses of the used packages"
   ]
  },
  {
   "cell_type": "code",
   "execution_count": 25,
   "metadata": {},
   "outputs": [
    {
     "data": {
      "text/html": [
       "<div>\n",
       "<style scoped>\n",
       "    .dataframe tbody tr th:only-of-type {\n",
       "        vertical-align: middle;\n",
       "    }\n",
       "\n",
       "    .dataframe tbody tr th {\n",
       "        vertical-align: top;\n",
       "    }\n",
       "\n",
       "    .dataframe thead th {\n",
       "        text-align: right;\n",
       "    }\n",
       "</style>\n",
       "<table border=\"1\" class=\"dataframe\">\n",
       "  <thead>\n",
       "    <tr style=\"text-align: right;\">\n",
       "      <th></th>\n",
       "      <th>Package</th>\n",
       "      <th>Version</th>\n",
       "      <th>License</th>\n",
       "    </tr>\n",
       "  </thead>\n",
       "  <tbody>\n",
       "    <tr>\n",
       "      <th>0</th>\n",
       "      <td>asttokens</td>\n",
       "      <td>2.4.1</td>\n",
       "      <td>Apache 2.0</td>\n",
       "    </tr>\n",
       "    <tr>\n",
       "      <th>1</th>\n",
       "      <td>overrides</td>\n",
       "      <td>7.5.0</td>\n",
       "      <td>Apache License, Version 2.0</td>\n",
       "    </tr>\n",
       "    <tr>\n",
       "      <th>2</th>\n",
       "      <td>accelerate</td>\n",
       "      <td>0.19.0</td>\n",
       "      <td>Apache Software License</td>\n",
       "    </tr>\n",
       "    <tr>\n",
       "      <th>3</th>\n",
       "      <td>arrow</td>\n",
       "      <td>1.3.0</td>\n",
       "      <td>Apache Software License</td>\n",
       "    </tr>\n",
       "    <tr>\n",
       "      <th>4</th>\n",
       "      <td>bleach</td>\n",
       "      <td>6.1.0</td>\n",
       "      <td>Apache Software License</td>\n",
       "    </tr>\n",
       "  </tbody>\n",
       "</table>\n",
       "</div>"
      ],
      "text/plain": [
       "      Package Version                      License\n",
       "0   asttokens   2.4.1                   Apache 2.0\n",
       "1   overrides   7.5.0  Apache License, Version 2.0\n",
       "2  accelerate  0.19.0      Apache Software License\n",
       "3       arrow   1.3.0      Apache Software License\n",
       "4      bleach   6.1.0      Apache Software License"
      ]
     },
     "execution_count": 25,
     "metadata": {},
     "output_type": "execute_result"
    }
   ],
   "source": [
    "import pandas as pd\n",
    "\n",
    "# Read the CSV file with comma as delimiter\n",
    "df = pd.read_csv(\"licenses_mixed.csv\", sep=',')\n",
    "\n",
    "df.head()"
   ]
  },
  {
   "cell_type": "code",
   "execution_count": 27,
   "metadata": {},
   "outputs": [
    {
     "name": "stdout",
     "output_type": "stream",
     "text": [
      "requirements: [['keyboard', '0.13.5'], ['pyobjc-core', '10.1'], ['pyobjc-framework-Cocoa', '10.1'], ['pyobjc-framework-ExceptionHandling', '10.1'], ['pyobjc-framework-Quartz', '10.1'], ['Quartz'], ['numpy'], ['pandas'], ['opencv-python'], ['torch'], ['torchvision'], ['ultralytics'], ['pyyaml']]\n",
      "licenses: {'asttokens': 'Apache 2.0', 'overrides': 'Apache License, Version 2.0', 'accelerate': 'Apache Software License', 'arrow': 'Apache Software License', 'bleach': 'Apache Software License', 'diffusers': 'Apache Software License', 'distro': 'Apache Software License', 'huggingface-hub': 'Apache Software License', 'importlib-metadata': 'Apache Software License', 'importlib-resources': 'Apache Software License', 'json5': 'Apache Software License', 'nltk': 'Apache Software License', 'opencv-python': 'Apache Software License', 'pipreqs': 'Apache Software License', 'prometheus-client': 'Apache Software License', 'regex': 'Apache Software License', 'requests': 'Apache Software License', 'requests-file': 'Apache Software License', 'requests-toolbelt': 'Apache Software License', 'tokenizers': 'Apache Software License', 'tornado': 'Apache Software License', 'transformers': 'Apache Software License', 'types-python-dateutil': 'Apache Software License', 'tzdata': 'Apache Software License', 'websocket-client': 'Apache Software License', 'cryptography': 'Apache Software License; BSD License', 'packaging': 'Apache Software License; BSD License', 'python-dateutil': 'Apache Software License; BSD License', 'sniffio': 'Apache Software License; MIT License', 'PySocks': 'BSD', 'anaconda-anon-usage': 'BSD', 'clyent': 'BSD', 'conda-token': 'BSD', 'conda-verify': 'BSD', 'ply': 'BSD', 'torchvision': 'BSD', 'matplotlib-inline': 'BSD 3-Clause', 'Babel': 'BSD License', 'Jinja2': 'BSD License', 'MarkupSafe': 'BSD License', 'Pygments': 'BSD License', 'Send2Trash': 'BSD License', 'anaconda-client': 'BSD License', 'anaconda-project': 'BSD License', 'appnope': 'BSD License', 'boltons': 'BSD License', 'click': 'BSD License', 'colorama': 'BSD License', 'comm': 'BSD License', 'conda': 'BSD License', 'conda-build': 'BSD License', 'conda-content-trust': 'BSD License', 'conda-libmamba-solver': 'BSD License', 'conda-pack': 'BSD License', 'conda-repo-cli': 'BSD License', 'conda_package_streaming': 'BSD License', 'contourpy': 'BSD License', 'cssselect': 'BSD License', 'cycler': 'BSD License', 'decorator': 'BSD License', 'fastjsonschema': 'BSD License', 'feedparser': 'BSD License', 'fsspec': 'BSD License', 'idna': 'BSD License', 'ipykernel': 'BSD License', 'ipython': 'BSD License', 'ipywidgets': 'BSD License', 'joblib': 'BSD License', 'jsonlines': 'BSD License', 'jsonpatch': 'BSD License', 'jsonpointer': 'BSD License', 'jupyter': 'BSD License', 'jupyter-console': 'BSD License', 'jupyter-events': 'BSD License', 'jupyter-lsp': 'BSD License', 'jupyter_client': 'BSD License', 'jupyter_core': 'BSD License', 'jupyter_server': 'BSD License', 'jupyter_server_terminals': 'BSD License', 'jupyterlab': 'BSD License', 'jupyterlab-widgets': 'BSD License', 'jupyterlab_pygments': 'BSD License', 'jupyterlab_server': 'BSD License', 'kiwisolver': 'BSD License', 'lxml': 'BSD License', 'mistune': 'BSD License', 'mpmath': 'BSD License', 'nbclient': 'BSD License', 'nbconvert': 'BSD License', 'nbformat': 'BSD License', 'nest-asyncio': 'BSD License', 'networkx': 'BSD License', 'notebook': 'BSD License', 'notebook_shim': 'BSD License', 'numpy': 'BSD License', 'pandas': 'BSD License', 'pandocfilters': 'BSD License', 'prompt-toolkit': 'BSD License', 'psutil': 'BSD License', 'pycparser': 'BSD License', 'python-dotenv': 'BSD License', 'python-json-logger': 'BSD License', 'qtconsole': 'BSD License', 'scikit-learn': 'BSD License', 'scipy': 'BSD License', 'seaborn': 'BSD License', 'semver': 'BSD License', 'sgmllib3k': 'BSD License', 'sympy': 'BSD License', 'terminado': 'BSD License', 'threadpoolctl': 'BSD License', 'tinycss2': 'BSD License', 'tinysegmenter': 'BSD License', 'tldextract': 'BSD License', 'torch': 'BSD License', 'traitlets': 'BSD License', 'ujson': 'BSD License', 'webcolors': 'BSD License', 'webencodings': 'BSD License', 'widgetsnbextension': 'BSD License', 'zstandard': 'BSD License', 'pyzmq': 'BSD License; GNU Library or Lesser General Public License (LGPL)', 'anaconda-cloud-auth': 'BSD-3-Clause', 'libarchive-c': 'CC0', 'ultralytics': 'GNU Affero General Public License v3 or later (AGPLv3+)', 'csv2jsonl': 'GNU General Public License v3 (GPLv3)', 'chardet': 'GNU Lesser General Public License v2 or later (LGPLv2+)', 'gmpy2': 'GNU Lesser General Public License v3 or later (LGPLv3+)', 'PyQt5': 'GPL v3', 'Pillow': 'Historical Permission Notice and Disclaimer (HPND)', 'isoduration': 'ISC License (ISCL)', 'pexpect': 'ISC License (ISCL)', 'ptyprocess': 'ISC License (ISCL)', 'PyQt5-Qt5': 'LGPL v3', 'newspaper3k': 'MIT', 'pycosat': 'MIT', 'thop': 'MIT', 'Brotli': 'MIT License', 'NRCLex': 'MIT License', 'PyJWT': 'MIT License', 'PyYAML': 'MIT License', 'QtPy': 'MIT License', 'anyio': 'MIT License', 'argon2-cffi': 'MIT License', 'argon2-cffi-bindings': 'MIT License', 'async-lru': 'MIT License', 'attrs': 'MIT License', 'beautifulsoup4': 'MIT License', 'cffi': 'MIT License', 'charset-normalizer': 'MIT License', 'debugpy': 'MIT License', 'docopt': 'MIT License', 'exceptiongroup': 'MIT License', 'executing': 'MIT License', 'feedfinder2': 'MIT License', 'fonttools': 'MIT License', 'future': 'MIT License', 'install': 'MIT License', 'jaraco.classes': 'MIT License', 'jedi': 'MIT License', 'jsonschema': 'MIT License', 'jsonschema-specifications': 'MIT License', 'keyring': 'MIT License', 'more-itertools': 'MIT License', 'parso': 'MIT License', 'pathlib': 'MIT License', 'pickleshare': 'MIT License', 'pkce': 'MIT License', 'pkginfo': 'MIT License', 'pkgutil_resolve_name': 'MIT License', 'platformdirs': 'MIT License', 'pluggy': 'MIT License', 'pure-eval': 'MIT License', 'py-cpuinfo': 'MIT License', 'pydantic': 'MIT License', 'pyobjc': 'MIT License', 'pyobjc-core': 'MIT License', 'pyobjc-framework-AVFoundation': 'MIT License', 'pyobjc-framework-AVKit': 'MIT License', 'pyobjc-framework-AVRouting': 'MIT License', 'pyobjc-framework-Accessibility': 'MIT License', 'pyobjc-framework-Accounts': 'MIT License', 'pyobjc-framework-AdServices': 'MIT License', 'pyobjc-framework-AdSupport': 'MIT License', 'pyobjc-framework-AddressBook': 'MIT License', 'pyobjc-framework-AppTrackingTransparency': 'MIT License', 'pyobjc-framework-AppleScriptKit': 'MIT License', 'pyobjc-framework-AppleScriptObjC': 'MIT License', 'pyobjc-framework-ApplicationServices': 'MIT License', 'pyobjc-framework-AudioVideoBridging': 'MIT License', 'pyobjc-framework-AuthenticationServices': 'MIT License', 'pyobjc-framework-AutomaticAssessmentConfiguration': 'MIT License', 'pyobjc-framework-Automator': 'MIT License', 'pyobjc-framework-BackgroundAssets': 'MIT License', 'pyobjc-framework-BusinessChat': 'MIT License', 'pyobjc-framework-CFNetwork': 'MIT License', 'pyobjc-framework-CalendarStore': 'MIT License', 'pyobjc-framework-CallKit': 'MIT License', 'pyobjc-framework-Cinematic': 'MIT License', 'pyobjc-framework-ClassKit': 'MIT License', 'pyobjc-framework-CloudKit': 'MIT License', 'pyobjc-framework-Cocoa': 'MIT License', 'pyobjc-framework-Collaboration': 'MIT License', 'pyobjc-framework-ColorSync': 'MIT License', 'pyobjc-framework-Contacts': 'MIT License', 'pyobjc-framework-ContactsUI': 'MIT License', 'pyobjc-framework-CoreAudio': 'MIT License', 'pyobjc-framework-CoreAudioKit': 'MIT License', 'pyobjc-framework-CoreBluetooth': 'MIT License', 'pyobjc-framework-CoreData': 'MIT License', 'pyobjc-framework-CoreHaptics': 'MIT License', 'pyobjc-framework-CoreLocation': 'MIT License', 'pyobjc-framework-CoreMIDI': 'MIT License', 'pyobjc-framework-CoreML': 'MIT License', 'pyobjc-framework-CoreMedia': 'MIT License', 'pyobjc-framework-CoreMediaIO': 'MIT License', 'pyobjc-framework-CoreMotion': 'MIT License', 'pyobjc-framework-CoreServices': 'MIT License', 'pyobjc-framework-CoreSpotlight': 'MIT License', 'pyobjc-framework-CoreText': 'MIT License', 'pyobjc-framework-CoreWLAN': 'MIT License', 'pyobjc-framework-CryptoTokenKit': 'MIT License', 'pyobjc-framework-DVDPlayback': 'MIT License', 'pyobjc-framework-DataDetection': 'MIT License', 'pyobjc-framework-DeviceCheck': 'MIT License', 'pyobjc-framework-DictionaryServices': 'MIT License', 'pyobjc-framework-DiscRecording': 'MIT License', 'pyobjc-framework-DiscRecordingUI': 'MIT License', 'pyobjc-framework-DiskArbitration': 'MIT License', 'pyobjc-framework-EventKit': 'MIT License', 'pyobjc-framework-ExceptionHandling': 'MIT License', 'pyobjc-framework-ExecutionPolicy': 'MIT License', 'pyobjc-framework-ExtensionKit': 'MIT License', 'pyobjc-framework-ExternalAccessory': 'MIT License', 'pyobjc-framework-FSEvents': 'MIT License', 'pyobjc-framework-FileProvider': 'MIT License', 'pyobjc-framework-FileProviderUI': 'MIT License', 'pyobjc-framework-FinderSync': 'MIT License', 'pyobjc-framework-GameCenter': 'MIT License', 'pyobjc-framework-GameController': 'MIT License', 'pyobjc-framework-GameKit': 'MIT License', 'pyobjc-framework-GameplayKit': 'MIT License', 'pyobjc-framework-HealthKit': 'MIT License', 'pyobjc-framework-IOBluetooth': 'MIT License', 'pyobjc-framework-IOBluetoothUI': 'MIT License', 'pyobjc-framework-IOSurface': 'MIT License', 'pyobjc-framework-ImageCaptureCore': 'MIT License', 'pyobjc-framework-InputMethodKit': 'MIT License', 'pyobjc-framework-InstallerPlugins': 'MIT License', 'pyobjc-framework-InstantMessage': 'MIT License', 'pyobjc-framework-Intents': 'MIT License', 'pyobjc-framework-IntentsUI': 'MIT License', 'pyobjc-framework-KernelManagement': 'MIT License', 'pyobjc-framework-LatentSemanticMapping': 'MIT License', 'pyobjc-framework-LaunchServices': 'MIT License', 'pyobjc-framework-LinkPresentation': 'MIT License', 'pyobjc-framework-LocalAuthentication': 'MIT License', 'pyobjc-framework-LocalAuthenticationEmbeddedUI': 'MIT License', 'pyobjc-framework-MLCompute': 'MIT License', 'pyobjc-framework-MailKit': 'MIT License', 'pyobjc-framework-MapKit': 'MIT License', 'pyobjc-framework-MediaAccessibility': 'MIT License', 'pyobjc-framework-MediaLibrary': 'MIT License', 'pyobjc-framework-MediaPlayer': 'MIT License', 'pyobjc-framework-MediaToolbox': 'MIT License', 'pyobjc-framework-Metal': 'MIT License', 'pyobjc-framework-MetalFX': 'MIT License', 'pyobjc-framework-MetalKit': 'MIT License', 'pyobjc-framework-MetalPerformanceShaders': 'MIT License', 'pyobjc-framework-MetalPerformanceShadersGraph': 'MIT License', 'pyobjc-framework-MetricKit': 'MIT License', 'pyobjc-framework-ModelIO': 'MIT License', 'pyobjc-framework-MultipeerConnectivity': 'MIT License', 'pyobjc-framework-NaturalLanguage': 'MIT License', 'pyobjc-framework-NetFS': 'MIT License', 'pyobjc-framework-Network': 'MIT License', 'pyobjc-framework-NetworkExtension': 'MIT License', 'pyobjc-framework-NotificationCenter': 'MIT License', 'pyobjc-framework-OSAKit': 'MIT License', 'pyobjc-framework-OSLog': 'MIT License', 'pyobjc-framework-OpenDirectory': 'MIT License', 'pyobjc-framework-PHASE': 'MIT License', 'pyobjc-framework-PassKit': 'MIT License', 'pyobjc-framework-PencilKit': 'MIT License', 'pyobjc-framework-Photos': 'MIT License', 'pyobjc-framework-PhotosUI': 'MIT License', 'pyobjc-framework-PreferencePanes': 'MIT License', 'pyobjc-framework-PushKit': 'MIT License', 'pyobjc-framework-Quartz': 'MIT License', 'pyobjc-framework-QuickLookThumbnailing': 'MIT License', 'pyobjc-framework-ReplayKit': 'MIT License', 'pyobjc-framework-SafariServices': 'MIT License', 'pyobjc-framework-SafetyKit': 'MIT License', 'pyobjc-framework-SceneKit': 'MIT License', 'pyobjc-framework-ScreenCaptureKit': 'MIT License', 'pyobjc-framework-ScreenSaver': 'MIT License', 'pyobjc-framework-ScreenTime': 'MIT License', 'pyobjc-framework-ScriptingBridge': 'MIT License', 'pyobjc-framework-SearchKit': 'MIT License', 'pyobjc-framework-Security': 'MIT License', 'pyobjc-framework-SecurityFoundation': 'MIT License', 'pyobjc-framework-SecurityInterface': 'MIT License', 'pyobjc-framework-SensitiveContentAnalysis': 'MIT License', 'pyobjc-framework-ServiceManagement': 'MIT License', 'pyobjc-framework-SharedWithYou': 'MIT License', 'pyobjc-framework-SharedWithYouCore': 'MIT License', 'pyobjc-framework-ShazamKit': 'MIT License', 'pyobjc-framework-Social': 'MIT License', 'pyobjc-framework-SoundAnalysis': 'MIT License', 'pyobjc-framework-Speech': 'MIT License', 'pyobjc-framework-SpriteKit': 'MIT License', 'pyobjc-framework-StoreKit': 'MIT License', 'pyobjc-framework-Symbols': 'MIT License', 'pyobjc-framework-SyncServices': 'MIT License', 'pyobjc-framework-SystemConfiguration': 'MIT License', 'pyobjc-framework-SystemExtensions': 'MIT License', 'pyobjc-framework-ThreadNetwork': 'MIT License', 'pyobjc-framework-UniformTypeIdentifiers': 'MIT License', 'pyobjc-framework-UserNotifications': 'MIT License', 'pyobjc-framework-UserNotificationsUI': 'MIT License', 'pyobjc-framework-VideoSubscriberAccount': 'MIT License', 'pyobjc-framework-VideoToolbox': 'MIT License', 'pyobjc-framework-Virtualization': 'MIT License', 'pyobjc-framework-Vision': 'MIT License', 'pyobjc-framework-WebKit': 'MIT License', 'pyobjc-framework-iTunesLibrary': 'MIT License', 'pyobjc-framework-libdispatch': 'MIT License', 'pyobjc-framework-libxpc': 'MIT License', 'pyparsing': 'MIT License', 'pytz': 'MIT License', 'referencing': 'MIT License', 'rfc3339-validator': 'MIT License', 'rfc3986-validator': 'MIT License', 'rpds-py': 'MIT License', 'ruamel.yaml': 'MIT License', 'ruamel.yaml.clib': 'MIT License', 'six': 'MIT License', 'soupsieve': 'MIT License', 'stack-data': 'MIT License', 'textblob': 'MIT License', 'toml': 'MIT License', 'tomli': 'MIT License', 'truststore': 'MIT License', 'uri-template': 'MIT License', 'urllib3': 'MIT License', 'yarg': 'MIT License', 'zipp': 'MIT License', 'tqdm': 'MIT License; Mozilla Public License 2.0 (MPL 2.0)', 'certifi': 'Mozilla Public License 2.0 (MPL 2.0)', 'fqdn': 'Mozilla Public License 2.0 (MPL 2.0)', 'archspec': 'Other/Proprietary License', 'defusedxml': 'Python Software Foundation License', 'matplotlib': 'Python Software Foundation License', 'typing_extensions': 'Python Software Foundation License', 'PyQt5-sip': 'SIP', 'sip': 'SIP', 'filelock': 'The Unlicense (Unlicense)', 'anaconda-navigator': 'UNKNOWN', 'conda-package-handling': 'UNKNOWN', 'conda_index': 'UNKNOWN', 'jieba3k': 'UNKNOWN', 'libmambapy': 'UNKNOWN', 'navigator-updater': 'UNKNOWN', 'ruamel-yaml-conda': 'UNKNOWN', 'sklearn': 'UNKNOWN'}\n",
      "CSV file with license information created: output_licenses_mixed.csv\n"
     ]
    }
   ],
   "source": [
    "import csv\n",
    "\n",
    "def read_requirements(file_path):\n",
    "    with open(file_path, 'r') as file:\n",
    "        # Extract package name and version\n",
    "        packages = [line.strip().split('==') for line in file if line.strip()]\n",
    "    return packages\n",
    "\n",
    "def read_licenses(file_path):\n",
    "    licenses = {}\n",
    "    with open(file_path, newline='') as csvfile:\n",
    "        reader = csv.DictReader(csvfile)\n",
    "        for row in reader:\n",
    "            package_name = row['Package'].strip()\n",
    "            package_license = row['License'].strip()\n",
    "            licenses[package_name] = package_license\n",
    "    return licenses\n",
    "\n",
    "def find_licenses(requirements, licenses):\n",
    "    package_licenses = []\n",
    "    for el in requirements:\n",
    "            package = el[0]\n",
    "            try:\n",
    "                version = el[1]\n",
    "            except IndexError:\n",
    "                version = \"No Version Specified\"\n",
    "            license = licenses.get(package, \"License Not Found\")\n",
    "            package_licenses.append([package, version, license])\n",
    "    return package_licenses\n",
    "\n",
    "# Adjust the file paths as needed\n",
    "requirements_file = 'requirements.txt'\n",
    "licenses_file = 'licenses_conda.csv'\n",
    "output_csv_file = 'licenses_project.csv'  # Output file\n",
    "\n",
    "requirements = read_requirements(requirements_file)\n",
    "print(f\"requirements: {requirements}\")\n",
    "licenses = read_licenses(licenses_file)\n",
    "print(f\"licenses: {licenses}\")\n",
    "\n",
    "package_licenses = find_licenses(requirements, licenses)\n",
    "\n",
    "# Write the results to a new CSV file with a header\n",
    "with open(output_csv_file, mode='w', newline='', encoding='utf-8') as file:\n",
    "    writer = csv.writer(file)\n",
    "    writer.writerow(['Package', 'Version', 'License'])  # Write the header\n",
    "    writer.writerows(package_licenses)\n",
    "\n",
    "print(f\"CSV file with license information created: {output_csv_file}\")\n"
   ]
  }
 ],
 "metadata": {
  "kernelspec": {
   "display_name": "ergonomic_pose.venv",
   "language": "python",
   "name": "python3"
  },
  "language_info": {
   "codemirror_mode": {
    "name": "ipython",
    "version": 3
   },
   "file_extension": ".py",
   "mimetype": "text/x-python",
   "name": "python",
   "nbconvert_exporter": "python",
   "pygments_lexer": "ipython3",
   "version": "3.11.6"
  }
 },
 "nbformat": 4,
 "nbformat_minor": 2
}
