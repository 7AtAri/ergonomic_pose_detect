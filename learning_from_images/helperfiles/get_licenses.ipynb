{
 "cells": [
  {
   "cell_type": "code",
   "execution_count": 1,
   "metadata": {},
   "outputs": [
    {
     "name": "stdout",
     "output_type": "stream",
     "text": [
      "Header added to licenses.csv\n"
     ]
    }
   ],
   "source": [
    "import csv\n",
    "\n",
    "def add_header_to_csv(file_path, header):\n",
    "    # Read the existing data\n",
    "    with open(file_path, 'r', newline='', encoding='utf-8') as file:\n",
    "        reader = csv.reader(file)\n",
    "        data = list(reader)\n",
    "    \n",
    "    # Write data back with the new header\n",
    "    with open(file_path, 'w', newline='', encoding='utf-8') as file:\n",
    "        writer = csv.writer(file)\n",
    "        writer.writerow(header)  # Write the new header\n",
    "        writer.writerows(data)\n",
    "\n",
    "# Specify the path to your CSV file\n",
    "csv_file_path = 'licenses.csv'\n",
    "\n",
    "# Define the header to be added\n",
    "header = ['Package', 'Version', 'License']\n",
    "\n",
    "# Add the header to the CSV file\n",
    "add_header_to_csv(csv_file_path, header)\n",
    "\n",
    "print(f\"Header added to {csv_file_path}\")\n"
   ]
  }
 ],
 "metadata": {
  "kernelspec": {
   "display_name": "ergonomic_pose.venv",
   "language": "python",
   "name": "python3"
  },
  "language_info": {
   "codemirror_mode": {
    "name": "ipython",
    "version": 3
   },
   "file_extension": ".py",
   "mimetype": "text/x-python",
   "name": "python",
   "nbconvert_exporter": "python",
   "pygments_lexer": "ipython3",
   "version": "3.11.6"
  }
 },
 "nbformat": 4,
 "nbformat_minor": 2
}
