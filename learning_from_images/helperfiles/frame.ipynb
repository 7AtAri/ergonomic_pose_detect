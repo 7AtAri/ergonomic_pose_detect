{
 "cells": [
  {
   "cell_type": "markdown",
   "metadata": {},
   "source": [
    "## UX/UI - Designing the traffic scheme frame \n"
   ]
  },
  {
   "cell_type": "markdown",
   "metadata": {},
   "source": [
    "### ---->>> for MacOS use frame_MacOS2.py !!!"
   ]
  },
  {
   "cell_type": "markdown",
   "metadata": {},
   "source": [
    "### the following code may work for Windows and Linux but not for MacOs:"
   ]
  },
  {
   "cell_type": "markdown",
   "metadata": {},
   "source": [
    "#### 1) Operating System agnostic approach:"
   ]
  },
  {
   "cell_type": "code",
   "execution_count": 2,
   "metadata": {},
   "outputs": [],
   "source": [
    "#%pip install pyqt5\n",
    "#%pip install keyboard\n"
   ]
  },
  {
   "cell_type": "code",
   "execution_count": 1,
   "metadata": {},
   "outputs": [],
   "source": [
    "import sys\n",
    "import platform\n",
    "from PyQt5 import QtWidgets, QtGui, QtCore\n",
    "from PyQt5.QtCore import QTimer\n"
   ]
  },
  {
   "cell_type": "code",
   "execution_count": 2,
   "metadata": {},
   "outputs": [
    {
     "ename": "KeyboardInterrupt",
     "evalue": "",
     "output_type": "error",
     "traceback": [
      "\u001b[0;31m---------------------------------------------------------------------------\u001b[0m",
      "\u001b[0;31mKeyboardInterrupt\u001b[0m                         Traceback (most recent call last)",
      "Cell \u001b[0;32mIn[2], line 26\u001b[0m, in \u001b[0;36mTransparentWindow.keepOnTop\u001b[0;34m(self)\u001b[0m\n\u001b[1;32m     23\u001b[0m     \u001b[38;5;28mself\u001b[39m\u001b[38;5;241m.\u001b[39mtimer\u001b[38;5;241m.\u001b[39mstart(\u001b[38;5;241m1000\u001b[39m)\n\u001b[1;32m     24\u001b[0m     \u001b[38;5;28mself\u001b[39m\u001b[38;5;241m.\u001b[39mshow()\n\u001b[0;32m---> 26\u001b[0m \u001b[38;5;28;01mdef\u001b[39;00m \u001b[38;5;21mkeepOnTop\u001b[39m(\u001b[38;5;28mself\u001b[39m):\n\u001b[1;32m     27\u001b[0m     \u001b[38;5;28mself\u001b[39m\u001b[38;5;241m.\u001b[39msetWindowFlags(QtCore\u001b[38;5;241m.\u001b[39mQt\u001b[38;5;241m.\u001b[39mWindowStaysOnTopHint \u001b[38;5;241m|\u001b[39m QtCore\u001b[38;5;241m.\u001b[39mQt\u001b[38;5;241m.\u001b[39mFramelessWindowHint \u001b[38;5;241m|\u001b[39m QtCore\u001b[38;5;241m.\u001b[39mQt\u001b[38;5;241m.\u001b[39mTool)\n\u001b[1;32m     28\u001b[0m     \u001b[38;5;28mself\u001b[39m\u001b[38;5;241m.\u001b[39mshow()\n",
      "\u001b[0;31mKeyboardInterrupt\u001b[0m: "
     ]
    }
   ],
   "source": [
    "class TransparentWindow(QtWidgets.QWidget):\n",
    "    def __init__(self):\n",
    "        super().__init__()\n",
    "        self.initUI()\n",
    "\n",
    "    def initUI(self):\n",
    "        self.setWindowFlags(QtCore.Qt.WindowStaysOnTopHint | QtCore.Qt.FramelessWindowHint | QtCore.Qt.Tool)\n",
    "        self.setAttribute(QtCore.Qt.WA_TranslucentBackground)\n",
    "        \n",
    "        # Get screen size\n",
    "        screen_rect = QtWidgets.QApplication.desktop().screenGeometry()\n",
    "        self.setGeometry(screen_rect)\n",
    "\n",
    "        # Set the size of the frame (border width)\n",
    "        self.frame_width = 5\n",
    "\n",
    "        # Re-assert window flags every 1000 milliseconds (1 second)\n",
    "        self.timer = QTimer(self)\n",
    "        self.timer.timeout.connect(self.keepOnTop)\n",
    "        self.timer.start(1000)\n",
    "        self.show()\n",
    "\n",
    "    def keepOnTop(self):\n",
    "        self.setWindowFlags(QtCore.Qt.WindowStaysOnTopHint | QtCore.Qt.FramelessWindowHint | QtCore.Qt.Tool)\n",
    "        self.show()\n",
    "\n",
    "\n",
    "    def paintEvent(self, event):\n",
    "        painter = QtGui.QPainter(self)\n",
    "        color = QtGui.QColor(0, 255, 0, 127)  # Example: Semi-transparent green\n",
    "\n",
    "        # Drawing the borders\n",
    "        painter.fillRect(0, 0, self.width(), self.frame_width, color)  # Top border\n",
    "        painter.fillRect(0, 0, self.frame_width, self.height(), color)  # Left border\n",
    "        painter.fillRect(self.width() - self.frame_width, 0, self.frame_width, self.height(), color)  # Right border\n",
    "        painter.fillRect(0, self.height() - self.frame_width, self.width(), self.frame_width, color)  # Bottom border\n",
    "    \n",
    "\n",
    "if __name__ == '__main__':\n",
    "    app = QtWidgets.QApplication(sys.argv)\n",
    "    ex = TransparentWindow()\n",
    "    app.exec_()\n"
   ]
  },
  {
   "cell_type": "markdown",
   "metadata": {},
   "source": [
    "### for WINDOWS and LINUX:"
   ]
  },
  {
   "cell_type": "code",
   "execution_count": 7,
   "metadata": {},
   "outputs": [
    {
     "ename": "ValueError",
     "evalue": "(\"Key 'x' is not mapped to any known key.\", ValueError('Unrecognized character: x'))",
     "output_type": "error",
     "traceback": [
      "\u001b[0;31m---------------------------------------------------------------------------\u001b[0m",
      "\u001b[0;31mValueError\u001b[0m                                Traceback (most recent call last)",
      "Cell \u001b[0;32mIn[7], line 56\u001b[0m\n\u001b[1;32m     53\u001b[0m  ex \u001b[38;5;241m=\u001b[39m TransparentWindow()\n\u001b[1;32m     55\u001b[0m \u001b[38;5;66;03m# Set the hotkey (for example, Ctrl+Shift+X)\u001b[39;00m\n\u001b[0;32m---> 56\u001b[0m  \u001b[43mkeyboard\u001b[49m\u001b[38;5;241;43m.\u001b[39;49m\u001b[43madd_hotkey\u001b[49m\u001b[43m(\u001b[49m\u001b[38;5;124;43m'\u001b[39;49m\u001b[38;5;124;43mctrl+shift+x\u001b[39;49m\u001b[38;5;124;43m'\u001b[39;49m\u001b[43m,\u001b[49m\u001b[43m \u001b[49m\u001b[43mclose_application\u001b[49m\u001b[43m)\u001b[49m\n\u001b[1;32m     58\u001b[0m  \u001b[38;5;66;03m#sys.exit(app.exec_())  # Or use app.quit() instead of sys.exit() if you prefer\u001b[39;00m\n\u001b[1;32m     59\u001b[0m  app\u001b[38;5;241m.\u001b[39mexec_()\n",
      "File \u001b[0;32m~/Documents/Data_Science/3_semester/learning_from_images/egronomic_pose_project/ergonomic_pose_detect/ergonomic_pose.venv/lib/python3.11/site-packages/keyboard/__init__.py:641\u001b[0m, in \u001b[0;36madd_hotkey\u001b[0;34m(hotkey, callback, args, suppress, timeout, trigger_on_release)\u001b[0m\n\u001b[1;32m    637\u001b[0m     callback \u001b[38;5;241m=\u001b[39m \u001b[38;5;28;01mlambda\u001b[39;00m callback\u001b[38;5;241m=\u001b[39mcallback: callback(\u001b[38;5;241m*\u001b[39margs)\n\u001b[1;32m    639\u001b[0m _listener\u001b[38;5;241m.\u001b[39mstart_if_necessary()\n\u001b[0;32m--> 641\u001b[0m steps \u001b[38;5;241m=\u001b[39m \u001b[43mparse_hotkey_combinations\u001b[49m\u001b[43m(\u001b[49m\u001b[43mhotkey\u001b[49m\u001b[43m)\u001b[49m\n\u001b[1;32m    643\u001b[0m event_type \u001b[38;5;241m=\u001b[39m KEY_UP \u001b[38;5;28;01mif\u001b[39;00m trigger_on_release \u001b[38;5;28;01melse\u001b[39;00m KEY_DOWN\n\u001b[1;32m    644\u001b[0m \u001b[38;5;28;01mif\u001b[39;00m \u001b[38;5;28mlen\u001b[39m(steps) \u001b[38;5;241m==\u001b[39m \u001b[38;5;241m1\u001b[39m:\n\u001b[1;32m    645\u001b[0m     \u001b[38;5;66;03m# Deciding when to allow a KEY_UP event is far harder than I thought,\u001b[39;00m\n\u001b[1;32m    646\u001b[0m     \u001b[38;5;66;03m# and any mistake will make that key \"sticky\". Therefore just let all\u001b[39;00m\n\u001b[1;32m    647\u001b[0m     \u001b[38;5;66;03m# KEY_UP events go through as long as that's not what we are listening\u001b[39;00m\n\u001b[1;32m    648\u001b[0m     \u001b[38;5;66;03m# for.\u001b[39;00m\n",
      "File \u001b[0;32m~/Documents/Data_Science/3_semester/learning_from_images/egronomic_pose_project/ergonomic_pose_detect/ergonomic_pose.venv/lib/python3.11/site-packages/keyboard/__init__.py:573\u001b[0m, in \u001b[0;36mparse_hotkey_combinations\u001b[0;34m(hotkey)\u001b[0m\n\u001b[1;32m    565\u001b[0m \u001b[38;5;28;01mdef\u001b[39;00m \u001b[38;5;21mcombine_step\u001b[39m(step):\n\u001b[1;32m    566\u001b[0m     \u001b[38;5;66;03m# A single step may be composed of many keys, and each key can have\u001b[39;00m\n\u001b[1;32m    567\u001b[0m     \u001b[38;5;66;03m# multiple scan codes. To speed up hotkey matching and avoid introducing\u001b[39;00m\n\u001b[1;32m    568\u001b[0m     \u001b[38;5;66;03m# event delays, we list all possible combinations of scan codes for these\u001b[39;00m\n\u001b[1;32m    569\u001b[0m     \u001b[38;5;66;03m# keys. Hotkeys are usually small, and there are not many combinations, so\u001b[39;00m\n\u001b[1;32m    570\u001b[0m     \u001b[38;5;66;03m# this is not as insane as it sounds.\u001b[39;00m\n\u001b[1;32m    571\u001b[0m     \u001b[38;5;28;01mreturn\u001b[39;00m (\u001b[38;5;28mtuple\u001b[39m(\u001b[38;5;28msorted\u001b[39m(scan_codes)) \u001b[38;5;28;01mfor\u001b[39;00m scan_codes \u001b[38;5;129;01min\u001b[39;00m _itertools\u001b[38;5;241m.\u001b[39mproduct(\u001b[38;5;241m*\u001b[39mstep))\n\u001b[0;32m--> 573\u001b[0m \u001b[38;5;28;01mreturn\u001b[39;00m \u001b[38;5;28mtuple\u001b[39m(\u001b[38;5;28mtuple\u001b[39m(combine_step(step)) \u001b[38;5;28;01mfor\u001b[39;00m step \u001b[38;5;129;01min\u001b[39;00m \u001b[43mparse_hotkey\u001b[49m\u001b[43m(\u001b[49m\u001b[43mhotkey\u001b[49m\u001b[43m)\u001b[49m)\n",
      "File \u001b[0;32m~/Documents/Data_Science/3_semester/learning_from_images/egronomic_pose_project/ergonomic_pose_detect/ergonomic_pose.venv/lib/python3.11/site-packages/keyboard/__init__.py:358\u001b[0m, in \u001b[0;36mparse_hotkey\u001b[0;34m(hotkey)\u001b[0m\n\u001b[1;32m    356\u001b[0m \u001b[38;5;28;01mfor\u001b[39;00m step \u001b[38;5;129;01min\u001b[39;00m _re\u001b[38;5;241m.\u001b[39msplit(\u001b[38;5;124mr\u001b[39m\u001b[38;5;124m'\u001b[39m\u001b[38;5;124m,\u001b[39m\u001b[38;5;124m\\\u001b[39m\u001b[38;5;124ms?\u001b[39m\u001b[38;5;124m'\u001b[39m, hotkey):\n\u001b[1;32m    357\u001b[0m     keys \u001b[38;5;241m=\u001b[39m _re\u001b[38;5;241m.\u001b[39msplit(\u001b[38;5;124mr\u001b[39m\u001b[38;5;124m'\u001b[39m\u001b[38;5;124m\\\u001b[39m\u001b[38;5;124ms?\u001b[39m\u001b[38;5;124m\\\u001b[39m\u001b[38;5;124m+\u001b[39m\u001b[38;5;124m\\\u001b[39m\u001b[38;5;124ms?\u001b[39m\u001b[38;5;124m'\u001b[39m, step)\n\u001b[0;32m--> 358\u001b[0m     steps\u001b[38;5;241m.\u001b[39mappend(\u001b[38;5;28;43mtuple\u001b[39;49m\u001b[43m(\u001b[49m\u001b[43mkey_to_scan_codes\u001b[49m\u001b[43m(\u001b[49m\u001b[43mkey\u001b[49m\u001b[43m)\u001b[49m\u001b[43m \u001b[49m\u001b[38;5;28;43;01mfor\u001b[39;49;00m\u001b[43m \u001b[49m\u001b[43mkey\u001b[49m\u001b[43m \u001b[49m\u001b[38;5;129;43;01min\u001b[39;49;00m\u001b[43m \u001b[49m\u001b[43mkeys\u001b[49m\u001b[43m)\u001b[49m)\n\u001b[1;32m    359\u001b[0m \u001b[38;5;28;01mreturn\u001b[39;00m \u001b[38;5;28mtuple\u001b[39m(steps)\n",
      "File \u001b[0;32m~/Documents/Data_Science/3_semester/learning_from_images/egronomic_pose_project/ergonomic_pose_detect/ergonomic_pose.venv/lib/python3.11/site-packages/keyboard/__init__.py:358\u001b[0m, in \u001b[0;36m<genexpr>\u001b[0;34m(.0)\u001b[0m\n\u001b[1;32m    356\u001b[0m \u001b[38;5;28;01mfor\u001b[39;00m step \u001b[38;5;129;01min\u001b[39;00m _re\u001b[38;5;241m.\u001b[39msplit(\u001b[38;5;124mr\u001b[39m\u001b[38;5;124m'\u001b[39m\u001b[38;5;124m,\u001b[39m\u001b[38;5;124m\\\u001b[39m\u001b[38;5;124ms?\u001b[39m\u001b[38;5;124m'\u001b[39m, hotkey):\n\u001b[1;32m    357\u001b[0m     keys \u001b[38;5;241m=\u001b[39m _re\u001b[38;5;241m.\u001b[39msplit(\u001b[38;5;124mr\u001b[39m\u001b[38;5;124m'\u001b[39m\u001b[38;5;124m\\\u001b[39m\u001b[38;5;124ms?\u001b[39m\u001b[38;5;124m\\\u001b[39m\u001b[38;5;124m+\u001b[39m\u001b[38;5;124m\\\u001b[39m\u001b[38;5;124ms?\u001b[39m\u001b[38;5;124m'\u001b[39m, step)\n\u001b[0;32m--> 358\u001b[0m     steps\u001b[38;5;241m.\u001b[39mappend(\u001b[38;5;28mtuple\u001b[39m(\u001b[43mkey_to_scan_codes\u001b[49m\u001b[43m(\u001b[49m\u001b[43mkey\u001b[49m\u001b[43m)\u001b[49m \u001b[38;5;28;01mfor\u001b[39;00m key \u001b[38;5;129;01min\u001b[39;00m keys))\n\u001b[1;32m    359\u001b[0m \u001b[38;5;28;01mreturn\u001b[39;00m \u001b[38;5;28mtuple\u001b[39m(steps)\n",
      "File \u001b[0;32m~/Documents/Data_Science/3_semester/learning_from_images/egronomic_pose_project/ergonomic_pose_detect/ergonomic_pose.venv/lib/python3.11/site-packages/keyboard/__init__.py:324\u001b[0m, in \u001b[0;36mkey_to_scan_codes\u001b[0;34m(key, error_if_missing)\u001b[0m\n\u001b[1;32m    321\u001b[0m     e \u001b[38;5;241m=\u001b[39m exception\n\u001b[1;32m    323\u001b[0m \u001b[38;5;28;01mif\u001b[39;00m \u001b[38;5;129;01mnot\u001b[39;00m t \u001b[38;5;129;01mand\u001b[39;00m error_if_missing:\n\u001b[0;32m--> 324\u001b[0m     \u001b[38;5;28;01mraise\u001b[39;00m \u001b[38;5;167;01mValueError\u001b[39;00m(\u001b[38;5;124m'\u001b[39m\u001b[38;5;124mKey \u001b[39m\u001b[38;5;132;01m{}\u001b[39;00m\u001b[38;5;124m is not mapped to any known key.\u001b[39m\u001b[38;5;124m'\u001b[39m\u001b[38;5;241m.\u001b[39mformat(\u001b[38;5;28mrepr\u001b[39m(key)), e)\n\u001b[1;32m    325\u001b[0m \u001b[38;5;28;01melse\u001b[39;00m:\n\u001b[1;32m    326\u001b[0m     \u001b[38;5;28;01mreturn\u001b[39;00m t\n",
      "\u001b[0;31mValueError\u001b[0m: (\"Key 'x' is not mapped to any known key.\", ValueError('Unrecognized character: x'))"
     ]
    }
   ],
   "source": [
    "# import keyboard\n",
    "\n",
    "class TransparentWindow(QtWidgets.QWidget):\n",
    "    def __init__(self):\n",
    "        super().__init__()\n",
    "        self.initUI()\n",
    "    \n",
    "    def closeEvent(self, event):\n",
    "        # Perform any cleanup here\n",
    "        print(\"Closing event triggered\")  # Debugging line\n",
    "        event.accept()  # Accept the close event\n",
    "\n",
    "    def initUI(self):\n",
    "        self.setWindowFlags(QtCore.Qt.WindowStaysOnTopHint | QtCore.Qt.FramelessWindowHint | QtCore.Qt.Tool)\n",
    "        self.setAttribute(QtCore.Qt.WA_TranslucentBackground)\n",
    "        self.setFocusPolicy(QtCore.Qt.StrongFocus)  # Adjust the focus policy\n",
    "        \n",
    "        os_name = platform.system()\n",
    "\n",
    "        # Adjust window flags based on the OS\n",
    "        if os_name == \"Windows\":\n",
    "            self.setWindowFlags(QtCore.Qt.WindowStaysOnTopHint | QtCore.Qt.FramelessWindowHint)\n",
    "        elif os_name == \"Darwin\":  # Darwin is the name for macOS\n",
    "            self.setWindowFlags(QtCore.Qt.WindowStaysOnTopHint | QtCore.Qt.FramelessWindowHint | QtCore.Qt.Tool)\n",
    "        elif os_name == \"Linux\":\n",
    "            self.setWindowFlags(QtCore.Qt.WindowStaysOnTopHint | QtCore.Qt.FramelessWindowHint)\n",
    "        else:\n",
    "            print(\"Unsupported OS\")\n",
    "            sys.exit(1)\n",
    "\n",
    "        self.setAttribute(QtCore.Qt.WA_TranslucentBackground)\n",
    "\n",
    "        # Get screen size\n",
    "        screen = QtWidgets.QDesktopWidget().screenGeometry()\n",
    "        self.setGeometry(screen)\n",
    "        self.show()\n",
    "\n",
    "    def keyPressEvent(self, event):\n",
    "        if event.key() == QtCore.Qt.Key_Escape:  # Close the app when Esc key is pressed\n",
    "            QtWidgets.QApplication.quit()\n",
    "    \n",
    "    def paintEvent(self, event):\n",
    "        painter = QtGui.QPainter(self)\n",
    "        frame_width = 5  # Width of the frame in pixels\n",
    "\n",
    "        # Draw borders\n",
    "        painter.fillRect(0, 0, self.width(), 20, QtGui.QColor(0, 255, 0, 127)) # Top \n",
    "        #painter.fillRect(0, 0, self.width(), frame_width, QtGui.QColor(0, 255, 0, 127))  # Top\n",
    "        painter.fillRect(0, self.height() - frame_width, self.width(), frame_width, QtGui.QColor(0, 255, 0, 127))  # Bottom\n",
    "        painter.fillRect(0, 0, frame_width, self.height(), QtGui.QColor(0, 255, 0, 127))  # Left\n",
    "        painter.fillRect(self.width() - frame_width, 0, frame_width, self.height(), QtGui.QColor(0, 255, 0, 127))  # Right\n",
    "\n",
    "if __name__ == '__main__':\n",
    "    app = QtWidgets.QApplication(sys.argv)\n",
    "    ex = TransparentWindow()\n",
    "   \n",
    "   # Set the hotkey (for example, Ctrl+Shift+X)\n",
    "   # keyboard.add_hotkey('ctrl+shift+x', close_application)\n",
    "\n",
    "    #sys.exit(app.exec_())  # Or use app.quit() instead of sys.exit() if you prefer\n",
    "    app.exec_()"
   ]
  },
  {
   "cell_type": "markdown",
   "metadata": {},
   "source": [
    "### alternative approach for MacOS, that currently does not work correctly:\n"
   ]
  },
  {
   "cell_type": "code",
   "execution_count": null,
   "metadata": {},
   "outputs": [],
   "source": [
    "# doesn't work in .venv\n",
    "\n",
    "import sys\n",
    "#import platform\n",
    "from PyQt5 import QtWidgets, QtGui, QtCore\n",
    "from PyQt5.QtCore import QTimer\n",
    "\n",
    "class TransparentWindow(QtWidgets.QWidget):\n",
    "    def __init__(self):\n",
    "        super().__init__()\n",
    "        self.initUI()\n",
    "\n",
    "    def initUI(self):\n",
    "        self.setWindowFlags(QtCore.Qt.WindowStaysOnTopHint | QtCore.Qt.FramelessWindowHint | QtCore.Qt.Tool)\n",
    "        self.setAttribute(QtCore.Qt.WA_TranslucentBackground)\n",
    "        \n",
    "        # Get screen size\n",
    "        screen_rect = QtWidgets.QApplication.desktop().screenGeometry()\n",
    "        self.setGeometry(screen_rect)\n",
    "\n",
    "        # Set the size of the frame (border width)\n",
    "        self.frame_width = 5\n",
    "\n",
    "        # Re-assert window flags every 1000 milliseconds (1 second)\n",
    "        self.timer = QTimer(self)\n",
    "        self.timer.timeout.connect(self.keepOnTop)\n",
    "        self.timer.start(1000)\n",
    "        self.show()\n",
    "\n",
    "    def keepOnTop(self):\n",
    "        self.setWindowFlags(QtCore.Qt.WindowStaysOnTopHint | QtCore.Qt.FramelessWindowHint | QtCore.Qt.Tool)\n",
    "        self.show()\n",
    "\n",
    "\n",
    "    def paintEvent(self, event):\n",
    "        painter = QtGui.QPainter(self)\n",
    "        color = QtGui.QColor(0, 255, 0, 127)  # Example: Semi-transparent green\n",
    "\n",
    "        # Drawing the borders\n",
    "        painter.fillRect(0, 0, self.width(), self.frame_width, color)  # Top border\n",
    "        painter.fillRect(0, 0, self.frame_width, self.height(), color)  # Left border\n",
    "        painter.fillRect(self.width() - self.frame_width, 0, self.frame_width, self.height(), color)  # Right border\n",
    "        painter.fillRect(0, self.height() - self.frame_width, self.width(), self.frame_width, color)  # Bottom border\n",
    "    \n",
    "\n",
    "if __name__ == '__main__':\n",
    "    app = QtWidgets.QApplication(sys.argv)\n",
    "    ex = TransparentWindow()\n",
    "    app.exec_()\n"
   ]
  }
 ],
 "metadata": {
  "kernelspec": {
   "display_name": ".venv",
   "language": "python",
   "name": "python3"
  },
  "language_info": {
   "codemirror_mode": {
    "name": "ipython",
    "version": 3
   },
   "file_extension": ".py",
   "mimetype": "text/x-python",
   "name": "python",
   "nbconvert_exporter": "python",
   "pygments_lexer": "ipython3",
   "version": "3.11.6"
  }
 },
 "nbformat": 4,
 "nbformat_minor": 2
}
